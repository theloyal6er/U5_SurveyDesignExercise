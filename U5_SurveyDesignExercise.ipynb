{
 "cells": [
  {
   "cell_type": "markdown",
   "metadata": {},
   "source": [
    "### Survey - Pros and Cons Exercise\n",
    "\n",
    "State whether a survey is appropriate for the following:\n",
    "\n",
    "1) Popularity of various Uber drivers\n",
    "- No; drivers and Uber itself already has this data ratings\n",
    "\n",
    "2) A grocery store wants to know how much people like strawberry, chocolate, and vanilla ice cream\n",
    "- No; if you track the amount of items bought between strawberry/chocolate/vanilla you can infer from that data\n",
    "\n",
    "3) Trojan wants to know whether their condoms are more popular among straight people or gay people\n",
    "- Yes; because of the sensitivity of the topics, a survey would best identify the data from this\n",
    "\n",
    "4) Recently, rental rates for HappyCars have increased by 30%, which is quite unusual. You want to find out why this is happening and how to keep the increase going\n",
    "- Yes; a survey with the right questions can identify trends, triggers, and certain situations that would increase rental rates. Customer insight and responses will curb your insight better. \n",
    "\n",
    "5) Assessing the success rate of a new advertising campaign\n",
    "- No; you can simply do a before/after analysis after an advertising campaign and track this across time.\n",
    "\n",
    "6) Measuring the effect of nurse/patient ratio on patient recovery rates in hospital wards\n",
    "- Yes; a survey that looks at how a nurse affects patient recovery would provide a lot of insight."
   ]
  },
  {
   "cell_type": "code",
   "execution_count": null,
   "metadata": {},
   "outputs": [],
   "source": []
  }
 ],
 "metadata": {
  "kernelspec": {
   "display_name": "Python 3",
   "language": "python",
   "name": "python3"
  },
  "language_info": {
   "codemirror_mode": {
    "name": "ipython",
    "version": 3
   },
   "file_extension": ".py",
   "mimetype": "text/x-python",
   "name": "python",
   "nbconvert_exporter": "python",
   "pygments_lexer": "ipython3",
   "version": "3.7.0"
  }
 },
 "nbformat": 4,
 "nbformat_minor": 2
}
